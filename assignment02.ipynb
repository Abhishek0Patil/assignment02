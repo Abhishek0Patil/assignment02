{
 "cells": [
  {
   "cell_type": "markdown",
   "id": "1ad013f6-75bc-4de9-85fd-e74c85a4321b",
   "metadata": {},
   "source": [
    "def keyword is used to create a function"
   ]
  },
  {
   "cell_type": "code",
   "execution_count": 7,
   "id": "30a41d72-4098-45cf-bc29-1b15632b4e8f",
   "metadata": {},
   "outputs": [],
   "source": [
    "l=list(range(1,25))"
   ]
  },
  {
   "cell_type": "code",
   "execution_count": 8,
   "id": "e27feda1-c92f-4690-97ba-afdd215d3c60",
   "metadata": {},
   "outputs": [],
   "source": [
    "def odd(l):\n",
    "    l1=[]\n",
    "    for i in l:\n",
    "        if i%2!=0 :\n",
    "            l1.append(i)\n",
    "    return l1       "
   ]
  },
  {
   "cell_type": "code",
   "execution_count": 9,
   "id": "d63ad335-7714-48de-b727-c622ada0e864",
   "metadata": {},
   "outputs": [
    {
     "data": {
      "text/plain": [
       "[1, 3, 5, 7, 9, 11, 13, 15, 17, 19, 21, 23]"
      ]
     },
     "execution_count": 9,
     "metadata": {},
     "output_type": "execute_result"
    }
   ],
   "source": [
    "odd(l)"
   ]
  },
  {
   "cell_type": "raw",
   "id": "46f64e95-3b13-496f-8aee-1ff60fca9a4f",
   "metadata": {},
   "source": [
    "*args are used to enter n number of arguements which will be stored as tuple"
   ]
  },
  {
   "cell_type": "markdown",
   "id": "02d0e029-fcd7-4aee-a0d5-8f62026b5bb3",
   "metadata": {},
   "source": [
    "**kwargs are used to store the value which we pass interms of dictionary type"
   ]
  },
  {
   "cell_type": "code",
   "execution_count": 14,
   "id": "c1f639cd-67b7-49d7-80cd-d7a17ca4dd0b",
   "metadata": {},
   "outputs": [],
   "source": [
    "def test1(*args,a):\n",
    "    return args,a"
   ]
  },
  {
   "cell_type": "code",
   "execution_count": 15,
   "id": "cb5ee96e-c4ef-45db-b13d-f859e7704276",
   "metadata": {},
   "outputs": [
    {
     "data": {
      "text/plain": [
       "((1, 2, 3), 45)"
      ]
     },
     "execution_count": 15,
     "metadata": {},
     "output_type": "execute_result"
    }
   ],
   "source": [
    "test1(1,2,3,a=45)"
   ]
  },
  {
   "cell_type": "code",
   "execution_count": 17,
   "id": "23c5af51-6a6f-4037-afc1-ca259018d818",
   "metadata": {},
   "outputs": [],
   "source": [
    "def test2(**kwargs):\n",
    "    return kwargs"
   ]
  },
  {
   "cell_type": "code",
   "execution_count": 18,
   "id": "47b740b1-e649-4c0f-9bde-d3f562c3dc3a",
   "metadata": {},
   "outputs": [
    {
     "data": {
      "text/plain": [
       "{'a': [1, 2, 3, 4], 'b': 'pwskills', 'c': 234.566}"
      ]
     },
     "execution_count": 18,
     "metadata": {},
     "output_type": "execute_result"
    }
   ],
   "source": [
    "test2(a=[1,2,3,4],b=\"pwskills\",c=234.566)"
   ]
  },
  {
   "cell_type": "markdown",
   "id": "f34e6db2-78bd-427a-85f9-dce478f1c5c7",
   "metadata": {},
   "source": [
    "Iterator in Python is an object that is used to iterate over iterable objects like lists, tuples, dicts, and sets.\n",
    "The iterator object is initialized using the iter() method. It uses the next() method for iteration."
   ]
  },
  {
   "cell_type": "code",
   "execution_count": 10,
   "id": "197e4d88-26e6-4df2-b288-bbc9150832d4",
   "metadata": {},
   "outputs": [
    {
     "name": "stdout",
     "output_type": "stream",
     "text": [
      "2\n",
      "4\n",
      "6\n",
      "8\n",
      "10\n"
     ]
    }
   ],
   "source": [
    "t = [2,4,6,8,10,12,14,16,18,20]\n",
    "ch = iter(t)\n",
    " \n",
    "print(next(ch))\n",
    "print(next(ch))\n",
    "print(next(ch))\n",
    "print(next(ch))\n",
    "print(next(ch))\n",
    "    "
   ]
  },
  {
   "cell_type": "markdown",
   "id": "b049e1f3-2940-4a58-aa07-194c5ca33793",
   "metadata": {},
   "source": [
    "Generator function in Python is a function that is commonly used to return a sequence of values.\n",
    "Generator function behaves like a normal function but rather it uses a yield statement to return a value instead of return statement. I"
   ]
  },
  {
   "cell_type": "code",
   "execution_count": 4,
   "id": "8ad34150-3df4-41a9-ad33-09caf68af8c2",
   "metadata": {},
   "outputs": [
    {
     "name": "stdout",
     "output_type": "stream",
     "text": [
      "<generator object count at 0x7f06f108d850>\n",
      "[0, 1, 2, 3, 4, 5, 6, 7, 8, 9, 10]\n"
     ]
    }
   ],
   "source": [
    "def count(n):\n",
    "    for i in range(0, n+1):\n",
    "        yield i\n",
    "gen_obj = count(10) \n",
    "print(gen_obj)       \n",
    "print(list(gen_obj))"
   ]
  },
  {
   "cell_type": "code",
   "execution_count": 11,
   "id": "28d54777-0da4-4652-800e-fef9b6b55b83",
   "metadata": {},
   "outputs": [],
   "source": [
    "def primes():\n",
    "    yield 2\n",
    "    for i in range(3, 1000, 2):\n",
    "        for j in range(3, int(i**0.5) + 1, 2):\n",
    "            if i % j == 0:\n",
    "                break\n",
    "        else:\n",
    "            yield i        "
   ]
  },
  {
   "cell_type": "code",
   "execution_count": 12,
   "id": "1f29971a-dc09-4152-8aa6-b2701da97ecf",
   "metadata": {},
   "outputs": [
    {
     "name": "stdout",
     "output_type": "stream",
     "text": [
      "2\n",
      "3\n",
      "5\n",
      "7\n",
      "11\n",
      "13\n",
      "17\n",
      "19\n",
      "23\n",
      "29\n",
      "31\n",
      "37\n",
      "41\n",
      "43\n",
      "47\n",
      "53\n",
      "59\n",
      "61\n",
      "67\n",
      "71\n"
     ]
    }
   ],
   "source": [
    "prime=primes()\n",
    "for i in range(20):\n",
    "    print(next(prime))"
   ]
  },
  {
   "cell_type": "code",
   "execution_count": 13,
   "id": "eb31ee2c-ebc1-423a-b02a-272e282084ae",
   "metadata": {},
   "outputs": [
    {
     "name": "stdout",
     "output_type": "stream",
     "text": [
      "0\n",
      "1\n",
      "1\n",
      "2\n",
      "3\n",
      "5\n",
      "8\n",
      "13\n",
      "21\n",
      "34\n"
     ]
    }
   ],
   "source": [
    "number=10\n",
    "a,b=0,1\n",
    "counter = 0\n",
    "while counter<number :\n",
    "    print(a)\n",
    "    c=a+b\n",
    "    a=b\n",
    "    b=c\n",
    "    counter =counter +1"
   ]
  },
  {
   "cell_type": "code",
   "execution_count": 13,
   "id": "bed39b06-390c-4d56-8e6c-e482e632c71f",
   "metadata": {},
   "outputs": [
    {
     "name": "stdout",
     "output_type": "stream",
     "text": [
      "['p', 'w', 's', 'k', 'i', 'l', 'l', 's']\n"
     ]
    }
   ],
   "source": [
    "list=[ch for ch in 'pwskills']\n",
    "print(list)"
   ]
  },
  {
   "cell_type": "code",
   "execution_count": 1,
   "id": "26d82853-6339-456b-b31a-d2b08263cb4a",
   "metadata": {},
   "outputs": [
    {
     "name": "stdin",
     "output_type": "stream",
     "text": [
      "enter the number :  12321\n"
     ]
    },
    {
     "name": "stdout",
     "output_type": "stream",
     "text": [
      "the number is palindrome\n"
     ]
    }
   ],
   "source": [
    "num=int(input(\"enter the number : \"))\n",
    "temp=num\n",
    "rev=0\n",
    "while(num>0):\n",
    "    digit=num%10\n",
    "    rev=rev*10+digit\n",
    "    num=int(num/10)\n",
    "if(temp==rev):\n",
    "    print(\"the number is palindrome\")\n",
    "else:\n",
    "    print(\"not a palindrome\")"
   ]
  },
  {
   "cell_type": "code",
   "execution_count": 9,
   "id": "a6c3872f-ff31-4c18-843b-b53c792ba5fd",
   "metadata": {},
   "outputs": [
    {
     "name": "stdout",
     "output_type": "stream",
     "text": [
      "[1, 3, 5, 7, 9, 11, 13, 15, 17, 19, 21, 23, 25, 27, 29, 31, 33, 35, 37, 39, 41, 43, 45, 47, 49, 51, 53, 55, 57, 59, 61, 63, 65, 67, 69, 71, 73, 75, 77, 79, 81, 83, 85, 87, 89, 91, 93, 95, 97, 99]\n"
     ]
    }
   ],
   "source": [
    "odd = [num for num in range(1,101) if num % 2 != 0]\n",
    "print(odd)"
   ]
  },
  {
   "cell_type": "code",
   "execution_count": null,
   "id": "9b35cedc-86d1-46e8-9440-50c02eda53c4",
   "metadata": {},
   "outputs": [],
   "source": []
  }
 ],
 "metadata": {
  "kernelspec": {
   "display_name": "Python 3 (ipykernel)",
   "language": "python",
   "name": "python3"
  },
  "language_info": {
   "codemirror_mode": {
    "name": "ipython",
    "version": 3
   },
   "file_extension": ".py",
   "mimetype": "text/x-python",
   "name": "python",
   "nbconvert_exporter": "python",
   "pygments_lexer": "ipython3",
   "version": "3.10.8"
  }
 },
 "nbformat": 4,
 "nbformat_minor": 5
}
